{
 "cells": [
  {
   "cell_type": "markdown",
   "metadata": {},
   "source": [
    "# Introduction\n",
    "\n",
    "This is a simple demonstration of how word embedding works in tensorflow 2.0. The implementation is directly based on this tutorial paper:\n",
    "- [word2vec Parameter Learning Explained](https://arxiv.org/abs/1411.2738)\n",
    "- and its online demo [wevi](https://ronxin.github.io/wevi/)\n",
    "\n",
    "which are based on these two pioneering works:\n",
    "- [Efficient Estimation of Word Representations in Vector Space](https://arxiv.org/abs/1301.3781)\n",
    "- [Distributed Representations of Words and Phrases and their Compositionality](https://arxiv.org/abs/1310.4546)\n",
    "\n",
    "The [wevi](https://ronxin.github.io/wevi/) demo has already given an amazing visualization of word embedding. This project tries to replicate its result using Tensorflow 2.x, which is more practical, and whose code can be reused in the future work."
   ]
  },
  {
   "cell_type": "markdown",
   "metadata": {},
   "source": [
    "# Environment\n",
    "The code is tested under these packages:\n",
    "- Python 3.6\n",
    "- numpy 1.17.2\n",
    "- sklearn 0.21.3\n",
    "- matplotlib 3.1.1\n",
    "- tensorflow 2.0.0"
   ]
  },
  {
   "cell_type": "markdown",
   "metadata": {},
   "source": [
    "# 0 - Prerequisite\n",
    "The words/vocabulary/symbols are tokenized and converted into one-hot vector, before starting any of these embedding process.\n",
    "\n",
    "Here are a list of imports and functions needed."
   ]
  },
  {
   "cell_type": "code",
   "execution_count": 1,
   "metadata": {
    "scrolled": true
   },
   "outputs": [
    {
     "name": "stdout",
     "output_type": "stream",
     "text": [
      "Check tf version is 2.x: 2.0.0\n"
     ]
    }
   ],
   "source": [
    "from sklearn.preprocessing import OneHotEncoder\n",
    "from matplotlib import pyplot as plt\n",
    "import tensorflow as tf\n",
    "\n",
    "%matplotlib inline\n",
    "print('Check tf version is 2.x:', tf.__version__)\n",
    "\n",
    "from nn import autoencoder_1hid, train, plot_enc_2d, nHotEncoder"
   ]
  },
  {
   "cell_type": "markdown",
   "metadata": {},
   "source": [
    "# 1 - Simple Autoencoder\n",
    "The simpliest Autoencoder is a 3 layer full connection neural network, with the input size same as the output. Training data and labels are the same, i.e., an Autoencoder tries to copy its input to its output. The value of hidden layer is then the encoding of the input.\n",
    "\n",
    "Corresponding to the \"self-loop\" in wevi demostration."
   ]
  },
  {
   "cell_type": "markdown",
   "metadata": {},
   "source": [
    "## 1.1 - Dataset"
   ]
  },
  {
   "cell_type": "code",
   "execution_count": 2,
   "metadata": {},
   "outputs": [
    {
     "name": "stdout",
     "output_type": "stream",
     "text": [
      "Data and labels are the same:\n",
      " [['Alpha'], ['Bravo'], ['Charlie'], ['Delta'], ['Echo']]\n"
     ]
    }
   ],
   "source": [
    "# unrelated words\n",
    "vocab = ['Alpha', 'Bravo', 'Charlie', 'Delta','Echo']\n",
    "vocab = [[vocab[i]] for i in range(len(vocab))]\n",
    "print(\"Data and labels are the same:\\n\", vocab)"
   ]
  },
  {
   "cell_type": "code",
   "execution_count": 3,
   "metadata": {},
   "outputs": [
    {
     "name": "stdout",
     "output_type": "stream",
     "text": [
      "After Onehot, dataset is a sparse matrix with shape: (5, 5)\n",
      "[[1. 0. 0. 0. 0.]\n",
      " [0. 1. 0. 0. 0.]\n",
      " [0. 0. 1. 0. 0.]\n",
      " [0. 0. 0. 1. 0.]\n",
      " [0. 0. 0. 0. 1.]]\n"
     ]
    }
   ],
   "source": [
    "# one-hot encoding\n",
    "ohot = OneHotEncoder(dtype='float32')\n",
    "X_vec = ohot.fit_transform(vocab)\n",
    "Y_vec = X_vec.copy()\n",
    "print('After Onehot, dataset is a sparse matrix with shape:', X_vec.shape)\n",
    "print(X_vec.toarray())"
   ]
  },
  {
   "cell_type": "markdown",
   "metadata": {},
   "source": [
    "## 1.2 - Model, Training and Evaluation\n",
    "\n",
    "The hidden layer has no activation, meaning that it's a linear transformation. The result proves it's effective enough."
   ]
  },
  {
   "cell_type": "code",
   "execution_count": 4,
   "metadata": {
    "scrolled": true
   },
   "outputs": [
    {
     "name": "stdout",
     "output_type": "stream",
     "text": [
      "Model: \"sequential\"\n",
      "_________________________________________________________________\n",
      "Layer (type)                 Output Shape              Param #   \n",
      "=================================================================\n",
      "encoder (Dense)              (None, 2)                 12        \n",
      "_________________________________________________________________\n",
      "decoder (Dense)              (None, 5)                 15        \n",
      "=================================================================\n",
      "Total params: 27\n",
      "Trainable params: 27\n",
      "Non-trainable params: 0\n",
      "_________________________________________________________________\n"
     ]
    }
   ],
   "source": [
    "model = autoencoder_1hid(n_input=5, n_hidden=2)\n",
    "model.summary()\n",
    "# print out the init values\n",
    "# print('\\nPredicting output with random init weights:')\n",
    "# print(model.predict(X))"
   ]
  },
  {
   "cell_type": "markdown",
   "metadata": {},
   "source": [
    "**Training process** uses mean square error and gradient descent. No fancy early-stopping or other gimmicks here.\n",
    "\n",
    "Note:\n",
    "- ```model(X)``` and ```model.predict(X)``` are different, one outputs tensor and the other np.array.\n",
    "- modify ```learning_rate``` and ```epochs``` to change the duration of training."
   ]
  },
  {
   "cell_type": "code",
   "execution_count": 5,
   "metadata": {},
   "outputs": [
    {
     "name": "stdout",
     "output_type": "stream",
     "text": [
      "Epoch:100, loss = 0.03103\n",
      "Epoch:200, loss = 0.00313\n",
      "Epoch:300, loss = 0.00106\n",
      "Epoch:400, loss = 0.00058\n",
      "Epoch:500, loss = 0.00039\n",
      "Epoch:600, loss = 0.00029\n",
      "Epoch:700, loss = 0.00022\n",
      "Epoch:800, loss = 0.00018\n",
      "Epoch:900, loss = 0.00015\n",
      "Epoch:1000, loss = 0.00013\n",
      "\n",
      "Plotting the loss value:\n"
     ]
    },
    {
     "data": {
      "image/png": "[encoded data removed]",
      "text/plain": [
       "<Figure size 432x288 with 1 Axes>"
      ]
     },
     "metadata": {
      "needs_background": "light"
     },
     "output_type": "display_data"
    }
   ],
   "source": [
    "train(model, X_vec, Y_vec, n_epochs=1000, learning_rate=2.0)"
   ]
  },
  {
   "cell_type": "markdown",
   "metadata": {},
   "source": [
    "Now input the training data X and see the output. After converting back to labels, they match exactly with input (A,B,C,D,E)."
   ]
  },
  {
   "cell_type": "code",
   "execution_count": 6,
   "metadata": {},
   "outputs": [
    {
     "name": "stdout",
     "output_type": "stream",
     "text": [
      "Output for the vocabulary:\n",
      "[[9.8410231e-01 5.8729832e-08 1.4383970e-02 4.4215389e-07 1.5130802e-03]\n",
      " [8.0427895e-08 9.8500949e-01 1.1657057e-05 1.3496849e-02 1.4818844e-03]\n",
      " [1.4044151e-02 3.0685587e-05 9.7200686e-01 1.3830708e-02 8.7482404e-05]\n",
      " [5.3999457e-07 1.0275642e-02 1.2637755e-02 9.7708249e-01 3.5728224e-06]\n",
      " [9.4111683e-03 8.1280349e-03 1.8184686e-04 2.1994416e-05 9.8225695e-01]]\n",
      "Transform back to labels:\n",
      "[['Alpha']\n",
      " ['Bravo']\n",
      " ['Charlie']\n",
      " ['Delta']\n",
      " ['Echo']]\n"
     ]
    }
   ],
   "source": [
    "# Evaluation \n",
    "print('Output for the vocabulary:')\n",
    "print(model.predict(X_vec))\n",
    "print('Transform back to labels:')\n",
    "print(ohot.inverse_transform(model.predict(X_vec)))"
   ]
  },
  {
   "cell_type": "markdown",
   "metadata": {},
   "source": [
    "## 1.3 - Visualize Encoding\n",
    "Here we build another model that is identical to the left half of the neural network. Its output will be the encoding of given word."
   ]
  },
  {
   "cell_type": "code",
   "execution_count": 7,
   "metadata": {},
   "outputs": [
    {
     "name": "stdout",
     "output_type": "stream",
     "text": [
      "The encoding for all 5 words:\n",
      "[[-3.03541     0.94428337]\n",
      " [ 2.8545506   0.16601548]\n",
      " [-1.4332931  -1.5552611 ]\n",
      " [ 1.3547835  -2.4870684 ]\n",
      " [ 0.12725832  2.3160148 ]]\n"
     ]
    }
   ],
   "source": [
    "# encoding model\n",
    "enc_model = tf.keras.Model(inputs=model.input,\n",
    "                           outputs=model.get_layer('encoder').output)\n",
    "X_enc = enc_model.predict(X_vec)\n",
    "print(\"The encoding for all 5 words:\")\n",
    "print(X_enc)"
   ]
  },
  {
   "cell_type": "code",
   "execution_count": 8,
   "metadata": {},
   "outputs": [
    {
     "name": "stdout",
     "output_type": "stream",
     "text": [
      "The 2D encoding of A,B,C,D,E are fairly split apart.\n"
     ]
    },
    {
     "data": {
      "image/png": "[encoded data removed]",
      "text/plain": [
       "<Figure size 432x288 with 1 Axes>"
      ]
     },
     "metadata": {
      "needs_background": "light"
     },
     "output_type": "display_data"
    }
   ],
   "source": [
    "# plotting\n",
    "plot_enc_2d(X_enc, vocab)\n",
    "print('The 2D encoding of A,B,C,D,E are fairly split apart.')"
   ]
  },
  {
   "cell_type": "markdown",
   "metadata": {},
   "source": [
    "# 2 - AutoEncoder with context\n",
    "Still in AutoEncoder form, but the values of input & output is not the same, but have some relation.\n",
    "\n",
    "Corresponding to the \"fruit and juice\" in wevi demostration."
   ]
  },
  {
   "cell_type": "markdown",
   "metadata": {},
   "source": [
    "## 2.1 - Dataset\n",
    "This time vocabulary is different from training data."
   ]
  },
  {
   "cell_type": "code",
   "execution_count": 9,
   "metadata": {},
   "outputs": [
    {
     "name": "stdout",
     "output_type": "stream",
     "text": [
      "vocabulary: [['apple'], ['drink'], ['eat'], ['juice'], ['milk'], ['orange'], ['rice'], ['water']]\n"
     ]
    }
   ],
   "source": [
    "# related words\n",
    "vocab = ['apple', 'drink', 'eat', 'juice', 'milk', 'orange', 'rice', 'water']\n",
    "vocab = [[_] for _ in vocab]    # sk.OneHotEncoder requires shape (n,1), not (n, )\n",
    "print('vocabulary:', vocab)"
   ]
  },
  {
   "cell_type": "code",
   "execution_count": 10,
   "metadata": {},
   "outputs": [
    {
     "name": "stdout",
     "output_type": "stream",
     "text": [
      "dataset: 12 samples.\n",
      "context  \t target\n",
      "['eat'] \t ['apple']\n",
      "['eat'] \t ['orange']\n",
      "['eat'] \t ['rice']\n",
      "['drink'] \t ['juice']\n",
      "['drink'] \t ['milk']\n",
      "['drink'] \t ['water']\n",
      "['orange'] \t ['juice']\n",
      "['apple'] \t ['juice']\n",
      "['rice'] \t ['milk']\n",
      "['milk'] \t ['drink']\n",
      "['water'] \t ['drink']\n",
      "['juice'] \t ['drink']\n"
     ]
    }
   ],
   "source": [
    "# context-target dataset, copied from wevi\n",
    "dataset = 'eat|apple,eat|orange,eat|rice,drink|juice,drink|milk,drink|water,orange|juice,\\\n",
    "apple|juice,rice|milk,milk|drink,water|drink,juice|drink'\n",
    "dataset = dataset.split(',')\n",
    "dataset = [pair.split('|') for pair in dataset]\n",
    "X,Y = [[pair[0]] for pair in dataset], [[pair[1]] for pair in dataset]\n",
    "\n",
    "print('dataset: {} samples.'.format(len(X)))\n",
    "print('context  \\t target')\n",
    "for x_, y_ in zip(X,Y):\n",
    "    print(x_, '\\t', y_)"
   ]
  },
  {
   "cell_type": "code",
   "execution_count": 11,
   "metadata": {},
   "outputs": [
    {
     "name": "stdout",
     "output_type": "stream",
     "text": [
      "shape of onehot: (12, 8) (12, 8)\n"
     ]
    }
   ],
   "source": [
    "# Onehot Encoding\n",
    "ohot = OneHotEncoder(dtype='float32')\n",
    "ohot.fit(vocab) \n",
    "X_vec = ohot.transform(X)\n",
    "Y_vec = ohot.transform(Y)\n",
    "print('shape of onehot:', X_vec.shape, Y_vec.shape)"
   ]
  },
  {
   "cell_type": "markdown",
   "metadata": {},
   "source": [
    "## 2.2 - Model, Training and Evaluation"
   ]
  },
  {
   "cell_type": "code",
   "execution_count": 12,
   "metadata": {},
   "outputs": [
    {
     "name": "stdout",
     "output_type": "stream",
     "text": [
      "Model: \"sequential_1\"\n",
      "_________________________________________________________________\n",
      "Layer (type)                 Output Shape              Param #   \n",
      "=================================================================\n",
      "encoder (Dense)              (None, 2)                 18        \n",
      "_________________________________________________________________\n",
      "decoder (Dense)              (None, 8)                 24        \n",
      "=================================================================\n",
      "Total params: 42\n",
      "Trainable params: 42\n",
      "Non-trainable params: 0\n",
      "_________________________________________________________________\n"
     ]
    }
   ],
   "source": [
    "model = autoencoder_1hid(n_input=8, n_hidden=2)\n",
    "model.summary()"
   ]
  },
  {
   "cell_type": "code",
   "execution_count": 13,
   "metadata": {},
   "outputs": [
    {
     "name": "stdout",
     "output_type": "stream",
     "text": [
      "Epoch:100, loss = 0.08317\n",
      "Epoch:200, loss = 0.06429\n",
      "Epoch:300, loss = 0.05267\n",
      "Epoch:400, loss = 0.04634\n",
      "Epoch:500, loss = 0.04412\n",
      "Epoch:600, loss = 0.04320\n",
      "Epoch:700, loss = 0.04267\n",
      "Epoch:800, loss = 0.04236\n",
      "Epoch:900, loss = 0.04218\n",
      "Epoch:1000, loss = 0.04206\n",
      "\n",
      "Plotting the loss value:\n"
     ]
    },
    {
     "data": {
      "image/png": "[encoded data removed]",
      "text/plain": [
       "<Figure size 432x288 with 1 Axes>"
      ]
     },
     "metadata": {
      "needs_background": "light"
     },
     "output_type": "display_data"
    }
   ],
   "source": [
    "train(model, X_vec, Y_vec, n_epochs=1000, learning_rate=2.0)"
   ]
  },
  {
   "cell_type": "markdown",
   "metadata": {},
   "source": [
    "Now input the training data X and see the output. After converting back to labels, we notice some are not matching."
   ]
  },
  {
   "cell_type": "code",
   "execution_count": 14,
   "metadata": {},
   "outputs": [
    {
     "name": "stdout",
     "output_type": "stream",
     "text": [
      "Result after training:\n",
      "input   \t ground truth\t prediction\n",
      "['eat'] \t ['apple'] \t ['rice']\t*\n",
      "['eat'] \t ['orange'] \t ['rice']\t*\n",
      "['eat'] \t ['rice'] \t ['rice']\t\n",
      "['drink'] \t ['juice'] \t ['milk']\t*\n",
      "['drink'] \t ['milk'] \t ['milk']\t\n",
      "['drink'] \t ['water'] \t ['milk']\t*\n",
      "['orange'] \t ['juice'] \t ['juice']\t\n",
      "['apple'] \t ['juice'] \t ['juice']\t\n",
      "['rice'] \t ['milk'] \t ['milk']\t\n",
      "['milk'] \t ['drink'] \t ['drink']\t\n",
      "['water'] \t ['drink'] \t ['drink']\t\n",
      "['juice'] \t ['drink'] \t ['drink']\t\n"
     ]
    }
   ],
   "source": [
    "print('Result after training:')\n",
    "print('input   \\t ground truth\\t prediction')\n",
    "for x_, y_, y_pred in zip(X, Y, ohot.inverse_transform(model.predict(X_vec))):\n",
    "    print(x_, '\\t', y_,'\\t',y_pred, end='\\t')\n",
    "    if y_ == y_pred: print()\n",
    "    else: print('*')"
   ]
  },
  {
   "cell_type": "markdown",
   "metadata": {},
   "source": [
    "That is because some words have 1-to-3 relationships (eat - apple/orange/rice) that cannot be fully interpreted by top-1 prediction. Now take a look at detailed predictions of a single word."
   ]
  },
  {
   "cell_type": "code",
   "execution_count": 15,
   "metadata": {
    "scrolled": true
   },
   "outputs": [
    {
     "name": "stdout",
     "output_type": "stream",
     "text": [
      "The prediction scores for the word \"eat\":\n",
      "\n",
      "--output--\t--score--\n",
      "['apple'] \t0.3168\t*\n",
      "['drink'] \t0.0185\t\n",
      "['eat'] \t0.0028\t\n",
      "['juice'] \t0.0241\t\n",
      "['milk'] \t0.0001\t\n",
      "['orange'] \t0.3168\t*\n",
      "['rice'] \t0.3169\t*\n",
      "['water'] \t0.0040\t\n",
      "\n",
      "Therefore, the network successfully models 1-to-many relations.\n"
     ]
    }
   ],
   "source": [
    "word = 'eat'   # change this\n",
    "\n",
    "print('The prediction scores for the word \"{}\":\\n'.format(word))\n",
    "print('--output--\\t--score--')\n",
    "scores = model.predict(ohot.transform([[word]]))[0]\n",
    "for label_, score_ in zip(vocab, scores):\n",
    "    print(label_, '\\t{:.4f}'.format(score_), end='\\t')\n",
    "    if score_ > 1.0/8: print('*')\n",
    "    else: print()\n",
    "print('\\nTherefore, the network successfully models 1-to-many relations.')"
   ]
  },
  {
   "cell_type": "markdown",
   "metadata": {},
   "source": [
    "## 2.3 - Visualize Encoding\n",
    "Here we build another model that is identical to the left half of the neural network. Its output will be the encoding of given word."
   ]
  },
  {
   "cell_type": "code",
   "execution_count": 16,
   "metadata": {},
   "outputs": [
    {
     "name": "stdout",
     "output_type": "stream",
     "text": [
      "Encoding of all 8 words: (8, 2)\n",
      "['apple'] \t [ 1.3598071 -1.4174602]\n",
      "['drink'] \t [-0.08283938 -1.0273536 ]\n",
      "['eat'] \t [1.3996859 1.6223305]\n",
      "['juice'] \t [-1.5327166   0.55381745]\n",
      "['milk'] \t [-1.0998746  1.0112183]\n",
      "['orange'] \t [ 1.4642426 -1.2557164]\n",
      "['rice'] \t [-1.59028  -2.069116]\n",
      "['water'] \t [-1.2731768   0.84639347]\n"
     ]
    }
   ],
   "source": [
    "# encoding model\n",
    "enc_model = tf.keras.Model(inputs=model.input,\n",
    "                           outputs=model.get_layer('encoder').output)\n",
    "vocab_enc = enc_model.predict(ohot.transform(vocab))\n",
    "print('Encoding of all 8 words:', vocab_enc.shape)\n",
    "for word, enc in zip(vocab, vocab_enc):\n",
    "    print(word, '\\t', enc)"
   ]
  },
  {
   "cell_type": "code",
   "execution_count": 17,
   "metadata": {},
   "outputs": [
    {
     "name": "stdout",
     "output_type": "stream",
     "text": [
      "This 2D encoding shows word relationship.\n"
     ]
    },
    {
     "data": {
      "image/png": "[encoded data removed]",
      "text/plain": [
       "<Figure size 432x288 with 1 Axes>"
      ]
     },
     "metadata": {
      "needs_background": "light"
     },
     "output_type": "display_data"
    }
   ],
   "source": [
    "plot_enc_2d(vocab_enc, vocab)\n",
    "print('This 2D encoding shows word relationship.')"
   ]
  },
  {
   "cell_type": "markdown",
   "metadata": {},
   "source": [
    "# 3 - Skip-gram model\n",
    "In skip-gram, input and output still have same size, but now allow output to have more 1's in the \"one-hot\" vector."
   ]
  },
  {
   "cell_type": "markdown",
   "metadata": {},
   "source": [
    "## 3.1 - Dataset\n",
    "the dataset is generated by context word, e.g.:\n",
    "- \"drink apple juice\" => target \"drink\", context \"apple\" \"juice\"\n",
    "\n",
    "Since we are dealing with multiple labels, \"n-hot\" is needed"
   ]
  },
  {
   "cell_type": "code",
   "execution_count": 18,
   "metadata": {},
   "outputs": [
    {
     "name": "stdout",
     "output_type": "stream",
     "text": [
      "vocabulary: ['apple', 'drink', 'eat', 'juice', 'milk', 'orange', 'rice', 'water']\n",
      "dataset: 12 samples.\n",
      "--target--\t --context--\n",
      "['apple'] \t ['drink', 'juice']\n",
      "['orange'] \t ['eat', 'apple']\n",
      "['rice'] \t ['drink', 'juice']\n",
      "['juice'] \t ['drink', 'milk']\n",
      "['milk'] \t ['drink', 'rice']\n",
      "['water'] \t ['drink', 'milk']\n",
      "['juice'] \t ['orange', 'apple']\n",
      "['juice'] \t ['apple', 'drink']\n",
      "['milk'] \t ['rice', 'drink']\n",
      "['drink'] \t ['milk', 'water']\n",
      "['drink'] \t ['water', 'juice']\n",
      "['drink'] \t ['juice', 'water']\n"
     ]
    }
   ],
   "source": [
    "# context / target, copied from wevi\n",
    "vocab = ['apple', 'drink', 'eat', 'juice', 'milk', 'orange', 'rice', 'water']\n",
    "print('vocabulary:', vocab)\n",
    "vocab = [[_] for _ in vocab]    # sk.OneHotEncoder requires shape (n,1), not (n, )\n",
    "\n",
    "dataset = 'apple|drink^juice,orange|eat^apple,rice|drink^juice,\\\n",
    "juice|drink^milk,milk|drink^rice,water|drink^milk,juice|orange^apple,\\\n",
    "juice|apple^drink,milk|rice^drink,drink|milk^water,drink|water^juice,\\\n",
    "drink|juice^water'\n",
    "dataset = dataset.split(',')\n",
    "dataset = [pair.split('|') for pair in dataset]\n",
    "X = [[pair[0]] for pair in dataset]\n",
    "Y = [pair[1].split('^') for pair in dataset]\n",
    "\n",
    "print('dataset: {} samples.'.format(len(X)))\n",
    "print('--target--\\t --context--')\n",
    "for x_, y_ in zip(X,Y):\n",
    "    print(x_, '\\t', y_)"
   ]
  },
  {
   "cell_type": "code",
   "execution_count": 19,
   "metadata": {},
   "outputs": [
    {
     "name": "stdout",
     "output_type": "stream",
     "text": [
      "shape of encoded input/output: (12, 8) (12, 8)\n"
     ]
    }
   ],
   "source": [
    "# N-hot Encoding\n",
    "ohot = OneHotEncoder(dtype='float32', handle_unknown='ignore')\n",
    "ohot.fit(vocab)\n",
    "nhot = nHotEncoder(ohot)\n",
    "X_vec = nhot.transform(X)\n",
    "Y_vec = nhot.transform(Y)\n",
    "print('shape of encoded input/output:', X_vec.shape, Y_vec.shape)"
   ]
  },
  {
   "cell_type": "code",
   "execution_count": 20,
   "metadata": {
    "scrolled": true
   },
   "outputs": [
    {
     "data": {
      "text/plain": [
       "[['drink', 'juice'],\n",
       " ['apple', 'eat'],\n",
       " ['drink', 'juice'],\n",
       " ['drink', 'milk'],\n",
       " ['drink', 'rice'],\n",
       " ['drink', 'milk'],\n",
       " ['apple', 'orange'],\n",
       " ['apple', 'drink'],\n",
       " ['drink', 'rice'],\n",
       " ['milk', 'water'],\n",
       " ['juice', 'water'],\n",
       " ['juice', 'water']]"
      ]
     },
     "execution_count": 20,
     "metadata": {},
     "output_type": "execute_result"
    }
   ],
   "source": [
    "nhot.inverse_transform(Y_vec,3)"
   ]
  },
  {
   "cell_type": "markdown",
   "metadata": {},
   "source": [
    "## 3.2 - Model, Training and Evaluation"
   ]
  },
  {
   "cell_type": "code",
   "execution_count": 21,
   "metadata": {},
   "outputs": [
    {
     "name": "stdout",
     "output_type": "stream",
     "text": [
      "Model: \"sequential_2\"\n",
      "_________________________________________________________________\n",
      "Layer (type)                 Output Shape              Param #   \n",
      "=================================================================\n",
      "encoder (Dense)              (None, 2)                 18        \n",
      "_________________________________________________________________\n",
      "decoder (Dense)              (None, 8)                 24        \n",
      "=================================================================\n",
      "Total params: 42\n",
      "Trainable params: 42\n",
      "Non-trainable params: 0\n",
      "_________________________________________________________________\n"
     ]
    }
   ],
   "source": [
    "model = autoencoder_1hid(n_input=8, n_hidden=2)\n",
    "model.summary()"
   ]
  },
  {
   "cell_type": "code",
   "execution_count": 22,
   "metadata": {},
   "outputs": [
    {
     "name": "stdout",
     "output_type": "stream",
     "text": [
      "Epoch:100, loss = 0.14487\n",
      "Epoch:200, loss = 0.13059\n",
      "Epoch:300, loss = 0.12261\n",
      "Epoch:400, loss = 0.11479\n",
      "Epoch:500, loss = 0.10514\n",
      "Epoch:600, loss = 0.10168\n",
      "Epoch:700, loss = 0.09950\n",
      "Epoch:800, loss = 0.09866\n",
      "Epoch:900, loss = 0.09822\n",
      "Epoch:1000, loss = 0.09794\n",
      "\n",
      "Plotting the loss value:\n"
     ]
    },
    {
     "data": {
      "image/png": "[encoded data removed]",
      "text/plain": [
       "<Figure size 432x288 with 1 Axes>"
      ]
     },
     "metadata": {
      "needs_background": "light"
     },
     "output_type": "display_data"
    }
   ],
   "source": [
    "train(model, X_vec, Y_vec, n_epochs=1000, learning_rate=2.0)"
   ]
  },
  {
   "cell_type": "markdown",
   "metadata": {},
   "source": [
    "Note that the loss value at the very end is significantly larger than before. Because each target word is not strictly matching to 1, 2 or any n context words. The training data always have 1-to-2 matching, which is never achievable, and not realistic."
   ]
  },
  {
   "cell_type": "code",
   "execution_count": 23,
   "metadata": {},
   "outputs": [
    {
     "name": "stdout",
     "output_type": "stream",
     "text": [
      "Result after training:\n",
      "input   \t ground truth\t\t prediction\n",
      "['apple'] \t ['drink', 'juice'] \t ['juice', 'drink']\t\n",
      "['orange'] \t ['eat', 'apple'] \t ['apple', 'drink']\t*\n",
      "['rice'] \t ['drink', 'juice'] \t ['juice', 'drink']\t\n",
      "['juice'] \t ['drink', 'milk'] \t ['apple', 'drink']\t*\n",
      "['milk'] \t ['drink', 'rice'] \t ['drink', 'rice']\t\n",
      "['water'] \t ['drink', 'milk'] \t ['milk', 'drink']\t\n",
      "['juice'] \t ['orange', 'apple'] \t ['apple', 'drink']\t*\n",
      "['juice'] \t ['apple', 'drink'] \t ['apple', 'drink']\t\n",
      "['milk'] \t ['rice', 'drink'] \t ['drink', 'rice']\t\n",
      "['drink'] \t ['milk', 'water'] \t ['water', 'juice']\t*\n",
      "['drink'] \t ['water', 'juice'] \t ['water', 'juice']\t\n",
      "['drink'] \t ['juice', 'water'] \t ['water', 'juice']\t\n"
     ]
    }
   ],
   "source": [
    "# evaluation\n",
    "print('Result after training:')\n",
    "print('input   \\t ground truth\\t\\t prediction')\n",
    "for x_, y_, y_pred in zip(X,\n",
    "                          Y,\n",
    "                          nhot.inverse_transform(model.predict(X_vec),2)):\n",
    "    print(x_, '\\t', y_,'\\t',y_pred, end='\\t')\n",
    "    for val in y_pred:\n",
    "        if val not in y_:\n",
    "            print('*')\n",
    "            break\n",
    "        else:\n",
    "            pass\n",
    "    else:\n",
    "        print('')"
   ]
  },
  {
   "cell_type": "markdown",
   "metadata": {},
   "source": [
    "Same as before, the prediction cannot match ground truth perfectly, we have to look closer to each prediction.\n",
    "\n",
    "With that being said, the prediction follows language intuition. E.g. the 4th line, 'juice' predicts 'drink' and 'apple', both are reasonable; however, in the ground truth, 'milk' is most likely a noise input."
   ]
  },
  {
   "cell_type": "code",
   "execution_count": 24,
   "metadata": {},
   "outputs": [
    {
     "name": "stdout",
     "output_type": "stream",
     "text": [
      "The prediction scores for the word \"eat\":\n",
      "\n",
      "--output--\t--score--\n",
      "['apple'] \t0.0160\t\n",
      "['drink'] \t0.7633\t*\n",
      "['eat'] \t0.0047\t\n",
      "['juice'] \t0.1862\t*\n",
      "['milk'] \t0.0056\t\n",
      "['orange'] \t0.0051\t\n",
      "['rice'] \t0.0122\t\n",
      "['water'] \t0.0070\t\n"
     ]
    }
   ],
   "source": [
    "word = 'eat'   # change this\n",
    "\n",
    "print('The prediction scores for the word \"{}\":\\n'.format(word))\n",
    "print('--output--\\t--score--')\n",
    "scores = model.predict(ohot.transform([[word]]))[0]\n",
    "for label_, score_ in zip(vocab, scores):\n",
    "    print(label_, '\\t{:.4f}'.format(score_), end='\\t')\n",
    "    if score_ > 1.0/8: print('*')\n",
    "    else: print()"
   ]
  },
  {
   "cell_type": "markdown",
   "metadata": {},
   "source": [
    "The word 'water' have multiple relations in the training data, however it only predicts 'drink' with high accuracy.\n",
    "\n",
    "On the other hand, the word 'eat' outputs 2 dominant relations 'drink' and 'juice', the latter one is confusing.\n",
    "\n",
    "These may due to the bias of the training data (examine training samples with 'eat'), and the network follows suit."
   ]
  },
  {
   "cell_type": "markdown",
   "metadata": {},
   "source": [
    "## 3.3 - Visualize Encoding\n",
    "Here we build another model that is identical to the left half of the neural network. Its output will be the encoding of given word."
   ]
  },
  {
   "cell_type": "code",
   "execution_count": 25,
   "metadata": {},
   "outputs": [
    {
     "name": "stdout",
     "output_type": "stream",
     "text": [
      "Encoding of all 8 words: (8, 2)\n",
      "\n",
      "Encoding for the word \"eat\":\n",
      "[[ 0.46061835 -0.30613163]]\n"
     ]
    }
   ],
   "source": [
    "#\n",
    "enc_model = tf.keras.Model(inputs=model.input,\n",
    "                           outputs=model.get_layer('encoder').output)\n",
    "\n",
    "vocab_enc = enc_model.predict(ohot.transform(vocab))\n",
    "print('Encoding of all 8 words:', vocab_enc.shape)\n",
    "\n",
    "word = 'eat'\n",
    "print('\\nEncoding for the word \"{}\":'.format(word))\n",
    "print(enc_model.predict(ohot.transform([[word]])))\n",
    "# print(X_enc)"
   ]
  },
  {
   "cell_type": "code",
   "execution_count": 26,
   "metadata": {},
   "outputs": [
    {
     "name": "stdout",
     "output_type": "stream",
     "text": [
      "This 2D encoding shows word relationship.\n"
     ]
    },
    {
     "data": {
      "image/png": "[encoded data removed]",
      "text/plain": [
       "<Figure size 432x288 with 1 Axes>"
      ]
     },
     "metadata": {
      "needs_background": "light"
     },
     "output_type": "display_data"
    }
   ],
   "source": [
    "plot_enc_2d(vocab_enc, vocab)\n",
    "print('This 2D encoding shows word relationship.')"
   ]
  },
  {
   "cell_type": "markdown",
   "metadata": {},
   "source": [
    "This time, things are not that clear, e.g. 'water', 'milk', juice' are split apart, and so are 'apple' and 'orange'. This may due to lack of training data. \n",
    "\n",
    "On the good side, this result is consistant with the wevi webpage demo."
   ]
  },
  {
   "cell_type": "markdown",
   "metadata": {},
   "source": [
    "# CBOW and others\n",
    "CBOW is simple swap the input and output of skip-gram, and will not be shown here.\n",
    "\n",
    "Thanks for reading."
   ]
  }
 ],
 "metadata": {
  "kernelspec": {
   "display_name": "Python 3",
   "language": "python",
   "name": "python3"
  },
  "language_info": {
   "codemirror_mode": {
    "name": "ipython",
    "version": 3
   },
   "file_extension": ".py",
   "mimetype": "text/x-python",
   "name": "python",
   "nbconvert_exporter": "python",
   "pygments_lexer": "ipython3",
   "version": "3.6.9"
  }
 },
 "nbformat": 4,
 "nbformat_minor": 2
}
